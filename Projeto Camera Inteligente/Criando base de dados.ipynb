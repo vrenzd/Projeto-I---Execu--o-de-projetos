{
 "cells": [
  {
   "cell_type": "code",
   "execution_count": 2,
   "metadata": {},
   "outputs": [],
   "source": [
    "# Importando bibliotecas\n",
    "import pandas as pd\n",
    "import numpy as np"
   ]
  },
  {
   "cell_type": "code",
   "execution_count": 3,
   "metadata": {},
   "outputs": [],
   "source": [
    "# Definindo o tamanho do dataset\n",
    "n_linhas = 580"
   ]
  },
  {
   "cell_type": "code",
   "execution_count": 4,
   "metadata": {},
   "outputs": [],
   "source": [
    "# Criando dados fictícios\n",
    "np.random.seed(42) # Para reproducibilidade"
   ]
  },
  {
   "cell_type": "code",
   "execution_count": 5,
   "metadata": {},
   "outputs": [],
   "source": [
    "# Gerando dados aleatórios\n",
    "tentativas_login = np.random.randint(1, 20, n_linhas) # Entre 1 e 20 tentativas\n",
    "tempo_sessao = np.random.randint(1, 15, n_linhas) # Entre 1 e 15 minutos\n",
    "acessos_suspeitos = np.random.randint(0, 10, n_linhas) # Entre 0 e 10 acessos\n",
    "ip_desconhecido = np.random.choice([0, 1], n_linhas, p=[0.7, 0.3]) # 30% ip desconhecidos\n",
    "horario_fora_padrao = np.random.choice([0, 1], n_linhas, p=[0.6, 0.4]) # 40% fora do padrão"
   ]
  },
  {
   "cell_type": "code",
   "execution_count": 6,
   "metadata": {},
   "outputs": [],
   "source": [
    "# Definindo o rótulo \"Malicioso\" com base em regras simples\n",
    "malicioso = []\n",
    "for i in range(n_linhas):\n",
    "  if(tentativas_login[i] > 10 or\n",
    "     acessos_suspeitos[i] > 5 or\n",
    "     (ip_desconhecido[1] == 1 and horario_fora_padrao[i] == 1)):\n",
    "    malicioso.append(1)\n",
    "  else:\n",
    "    malicioso.append(0)"
   ]
  },
  {
   "cell_type": "code",
   "execution_count": 7,
   "metadata": {},
   "outputs": [],
   "source": [
    "# Criando o DataFrame\n",
    "data = {\n",
    "    'Tentativas_Login': tentativas_login,\n",
    "    'Tempo_Sessao': tempo_sessao,\n",
    "    'Acessos_Suspeitos': acessos_suspeitos,\n",
    "    'IP_Desconhecido': ip_desconhecido,\n",
    "    'Horario_Fora_Padrao': horario_fora_padrao,\n",
    "    'Malicioso': malicioso\n",
    "}\n",
    "\n",
    "df = pd.DataFrame(data)"
   ]
  },
  {
   "cell_type": "code",
   "execution_count": 8,
   "metadata": {},
   "outputs": [],
   "source": [
    "# Salvando o Dataframe em um arquivo CSV\n",
    "df.to_csv('dataset_seguranca_lg.csv', index=False)"
   ]
  },
  {
   "cell_type": "code",
   "execution_count": 9,
   "metadata": {
    "colab": {
     "base_uri": "https://localhost:8080/"
    },
    "executionInfo": {
     "elapsed": 8,
     "status": "ok",
     "timestamp": 1745333747973,
     "user": {
      "displayName": "Rafael Henrique Martini Martins",
      "userId": "13741880153409670456"
     },
     "user_tz": 180
    },
    "id": "24sLsXI948rp",
    "outputId": "0261ab5e-b1de-41bc-f024-b6f17012e819"
   },
   "outputs": [
    {
     "name": "stdout",
     "output_type": "stream",
     "text": [
      "   Tentativas_Login  Tempo_Sessao  Acessos_Suspeitos  IP_Desconhecido  \\\n",
      "0                 7             1                  2                0   \n",
      "1                15             2                  7                1   \n",
      "2                11             9                  2                0   \n",
      "3                 8             3                  0                0   \n",
      "4                 7             1                  7                1   \n",
      "\n",
      "   Horario_Fora_Padrao  Malicioso  \n",
      "0                    0          0  \n",
      "1                    1          1  \n",
      "2                    0          1  \n",
      "3                    1          1  \n",
      "4                    0          1  \n"
     ]
    }
   ],
   "source": [
    "# Exibindo as primeiras linhas do Dataframe\n",
    "print(df.head())"
   ]
  }
 ],
 "metadata": {
  "colab": {
   "authorship_tag": "ABX9TyOecIFnsz50SEymqnYlJIet",
   "provenance": []
  },
  "kernelspec": {
   "display_name": "Python 3",
   "name": "python3"
  },
  "language_info": {
   "codemirror_mode": {
    "name": "ipython",
    "version": 3
   },
   "file_extension": ".py",
   "mimetype": "text/x-python",
   "name": "python",
   "nbconvert_exporter": "python",
   "pygments_lexer": "ipython3",
   "version": "3.13.3"
  }
 },
 "nbformat": 4,
 "nbformat_minor": 0
}
